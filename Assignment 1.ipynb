{
 "cells": [
  {
   "cell_type": "markdown",
   "metadata": {},
   "source": [
    "1. Write a program which accepts the radius of a circle in float format (from the user) and compute the area.(3.14*r^2)"
   ]
  },
  {
   "cell_type": "code",
   "execution_count": 1,
   "metadata": {},
   "outputs": [
    {
     "name": "stdin",
     "output_type": "stream",
     "text": [
      "Enter a circle radius  1.1\n"
     ]
    },
    {
     "name": "stdout",
     "output_type": "stream",
     "text": [
      "3.7994000000000008\n"
     ]
    }
   ],
   "source": [
    "radius = float(input(\"Enter a circle radius \" ))\n",
    "area = (radius ** 2 ) * 3.14\n",
    "print(area)"
   ]
  },
  {
   "cell_type": "markdown",
   "metadata": {},
   "source": [
    "2. Write a program which accepts the user's first and last name and print them with a space between them."
   ]
  },
  {
   "cell_type": "code",
   "execution_count": 3,
   "metadata": {},
   "outputs": [
    {
     "name": "stdin",
     "output_type": "stream",
     "text": [
      "Enter your first name  Mohamed\n",
      "Enter your last name  Sharqawy\n"
     ]
    },
    {
     "name": "stdout",
     "output_type": "stream",
     "text": [
      "Mohamed Sharqawy\n"
     ]
    }
   ],
   "source": [
    "first_name = input(\"Enter your first name \" )\n",
    "last_name = input(\"Enter your last name \" )\n",
    "print ( first_name + \" \" + last_name)"
   ]
  },
  {
   "cell_type": "markdown",
   "metadata": {},
   "source": [
    "3. Write a program to check whether a specified word (entered by user) is contained in a string paragraph also (entered by user) or not."
   ]
  },
  {
   "cell_type": "code",
   "execution_count": 5,
   "metadata": {},
   "outputs": [
    {
     "name": "stdin",
     "output_type": "stream",
     "text": [
      "Enter a text :  Hi, this Mohamed and this is your first assessment\n",
      "type in a word to check :  and\n"
     ]
    },
    {
     "name": "stdout",
     "output_type": "stream",
     "text": [
      "True\n"
     ]
    }
   ],
   "source": [
    "text = input(\"Enter a text : \" )\n",
    "word = input(\"type in a word to check : \")\n",
    "print(word in text)"
   ]
  },
  {
   "cell_type": "markdown",
   "metadata": {},
   "source": [
    "4. Write a program to print a certain letter (entered by user) (upper and lower case format)."
   ]
  },
  {
   "cell_type": "code",
   "execution_count": 13,
   "metadata": {},
   "outputs": [
    {
     "name": "stdin",
     "output_type": "stream",
     "text": [
      "Enter a word :  Hello\n",
      "Enter a letter to check :  h\n"
     ]
    },
    {
     "name": "stdout",
     "output_type": "stream",
     "text": [
      "True\n"
     ]
    }
   ],
   "source": [
    "second_word = input(\"Enter a word : \").lower()\n",
    "character = input(\"Enter a letter to check : \").lower()\n",
    "print(character in second_word)\n"
   ]
  },
  {
   "cell_type": "markdown",
   "metadata": {},
   "source": [
    "5. Write a program to take a full sentence (entered by user) and search for the letter T in it and print if it was found or not."
   ]
  },
  {
   "cell_type": "code",
   "execution_count": 17,
   "metadata": {},
   "outputs": [
    {
     "name": "stdin",
     "output_type": "stream",
     "text": [
      "Enter a sentence :  Hi, this is mohamed and this is you first day in coding\n"
     ]
    },
    {
     "name": "stdout",
     "output_type": "stream",
     "text": [
      "False\n"
     ]
    }
   ],
   "source": [
    "whole_sentence = input(\"Enter a sentence : \" )\n",
    "print('T' in whole_sentence)"
   ]
  },
  {
   "cell_type": "markdown",
   "metadata": {},
   "source": [
    "6. Write a program to take 3 values from user (string, integer, float) and print them at one statement.Then print type of each value."
   ]
  },
  {
   "cell_type": "code",
   "execution_count": 23,
   "metadata": {},
   "outputs": [
    {
     "name": "stdin",
     "output_type": "stream",
     "text": [
      "Enter a text :  Hello\n",
      "Enter a number :  26\n",
      "Enter a floating point number :  98\n"
     ]
    },
    {
     "name": "stdout",
     "output_type": "stream",
     "text": [
      "Hello   26   98.0\n",
      "<class 'str'>   <class 'int'>   <class 'float'>\n"
     ]
    }
   ],
   "source": [
    "val1 = input(\"Enter a text : \")\n",
    "val2 = int(input(\"Enter a number : \"))\n",
    "val3 = float(input(\"Enter a floating point number : \"))\n",
    "print(val1 , \" \" , val2, \" \", val3)\n",
    "print(type(val1) , \" \" , type(val2), \" \", type(val3))"
   ]
  },
  {
   "cell_type": "markdown",
   "metadata": {},
   "source": [
    "7. Write a program to calculate the length of a string (entered by user), after removing spaces."
   ]
  },
  {
   "cell_type": "code",
   "execution_count": 31,
   "metadata": {},
   "outputs": [
    {
     "name": "stdin",
     "output_type": "stream",
     "text": [
      "Enter a text :  Hi, this mohamed and this is my first attepmt\n"
     ]
    },
    {
     "name": "stdout",
     "output_type": "stream",
     "text": [
      "45\n"
     ]
    }
   ],
   "source": [
    "word = input(\"Enter a text : \")\n",
    "word_without_spaces = word.replace(\" \", \"\")\n",
    "print(len(word_without_spaces))"
   ]
  },
  {
   "cell_type": "markdown",
   "metadata": {},
   "source": [
    "8. Write a program to print number of spaces at a paragraph (entered by user)."
   ]
  },
  {
   "cell_type": "code",
   "execution_count": 35,
   "metadata": {},
   "outputs": [
    {
     "name": "stdin",
     "output_type": "stream",
     "text": [
      "Enter a text :  hi, this is mohamed and this is my second attempt\\\n"
     ]
    },
    {
     "name": "stdout",
     "output_type": "stream",
     "text": [
      "9\n"
     ]
    }
   ],
   "source": [
    "new_text = input(\"Enter a text : \" )\n",
    "print(new_text.count(\" \"))"
   ]
  },
  {
   "cell_type": "markdown",
   "metadata": {},
   "source": [
    "9. Write a program to add 'ING' at the end of a given string (entered by user)."
   ]
  },
  {
   "cell_type": "code",
   "execution_count": 39,
   "metadata": {},
   "outputs": [
    {
     "name": "stdin",
     "output_type": "stream",
     "text": [
      "Enter any word :  abcdcd\n"
     ]
    },
    {
     "name": "stdout",
     "output_type": "stream",
     "text": [
      "abcINGdcd\n"
     ]
    }
   ],
   "source": [
    "word2 = input( \"Enter any word : \" )\n",
    "index = len(word2) // 2\n",
    "mod_word2 = word2[:index] + \"ING\" + word2[index:]\n",
    "print(mod_word2)"
   ]
  },
  {
   "cell_type": "markdown",
   "metadata": {},
   "source": [
    "10. Write a program to compare 3 numbers (entered by user) with comparison operators"
   ]
  },
  {
   "cell_type": "code",
   "execution_count": 49,
   "metadata": {},
   "outputs": [
    {
     "name": "stdin",
     "output_type": "stream",
     "text": [
      "Enter the first number :  5\n",
      "Enter the second number :  10\n",
      "Enter the third number :  15\n"
     ]
    },
    {
     "name": "stdout",
     "output_type": "stream",
     "text": [
      "False\n",
      "True\n",
      "False\n",
      "True\n",
      "True\n",
      "False\n"
     ]
    }
   ],
   "source": [
    "num1 = float(input(\"Enter the first number : \" ))\n",
    "num2 = float(input(\"Enter the second number : \"))\n",
    "num3 = float(input(\"Enter the third number : \"))\n",
    "print(num1 > num2) \n",
    "print(num2 != num1) \n",
    "print(num1 == num3) \n",
    "print(num1 < num2) \n",
    "print(num3 > num2) \n",
    "print(num1 == num2) "
   ]
  },
  {
   "cell_type": "code",
   "execution_count": null,
   "metadata": {},
   "outputs": [],
   "source": []
  },
  {
   "cell_type": "code",
   "execution_count": null,
   "metadata": {},
   "outputs": [],
   "source": []
  }
 ],
 "metadata": {
  "kernelspec": {
   "display_name": "Python 3 (ipykernel)",
   "language": "python",
   "name": "python3"
  },
  "language_info": {
   "codemirror_mode": {
    "name": "ipython",
    "version": 3
   },
   "file_extension": ".py",
   "mimetype": "text/x-python",
   "name": "python",
   "nbconvert_exporter": "python",
   "pygments_lexer": "ipython3",
   "version": "3.12.4"
  }
 },
 "nbformat": 4,
 "nbformat_minor": 4
}
